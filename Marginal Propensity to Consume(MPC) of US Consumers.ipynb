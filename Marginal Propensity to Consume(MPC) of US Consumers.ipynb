{
 "cells": [
  {
   "cell_type": "markdown",
   "metadata": {},
   "source": [
    "# Project 3"
   ]
  },
  {
   "cell_type": "markdown",
   "metadata": {},
   "source": [
    "# 1.a"
   ]
  },
  {
   "cell_type": "code",
   "execution_count": 33,
   "metadata": {},
   "outputs": [],
   "source": [
    "import sympy as sp\n",
    "C0, C, mpc, I , I0, b, r, G, Y, k, h, m, c, t = sp.symbols(\"C0, C, mpc, I , I0, b, r, G, Y, k, h, m, c,t \")"
   ]
  },
  {
   "cell_type": "code",
   "execution_count": 34,
   "metadata": {},
   "outputs": [],
   "source": [
    "def IS_r(Y):\n",
    "    return 1/b*(C0+I0+G-Y*(1-mpc)-(Y*mpc*t))\n"
   ]
  },
  {
   "cell_type": "code",
   "execution_count": 35,
   "metadata": {},
   "outputs": [
    {
     "data": {
      "text/latex": [
       "$\\displaystyle \\frac{C_{0} + G + I_{0} - Y mpc t - Y \\left(1 - mpc\\right)}{b}$"
      ],
      "text/plain": [
       "(C0 + G + I0 - Y*mpc*t - Y*(1 - mpc))/b"
      ]
     },
     "execution_count": 35,
     "metadata": {},
     "output_type": "execute_result"
    }
   ],
   "source": [
    "IS_r(Y)"
   ]
  },
  {
   "cell_type": "code",
   "execution_count": 36,
   "metadata": {},
   "outputs": [],
   "source": [
    "C = C0 + c*(1-t) * Y\n",
    "I = I0 - b * r\n",
    "#Y = C + I + G\n"
   ]
  },
  {
   "cell_type": "code",
   "execution_count": 37,
   "metadata": {},
   "outputs": [],
   "source": [
    "IS = sp.solve(C0 + G + I0 + Y*(mpc)*(1-t) - b*r - Y, r)[0]\n"
   ]
  },
  {
   "cell_type": "code",
   "execution_count": 38,
   "metadata": {},
   "outputs": [],
   "source": [
    "def LM_r(Y):\n",
    "    return k/h*Y-1/h*m "
   ]
  },
  {
   "cell_type": "code",
   "execution_count": 39,
   "metadata": {},
   "outputs": [
    {
     "data": {
      "text/latex": [
       "$\\displaystyle \\frac{Y k}{h} - \\frac{m}{h}$"
      ],
      "text/plain": [
       "Y*k/h - m/h"
      ]
     },
     "execution_count": 39,
     "metadata": {},
     "output_type": "execute_result"
    }
   ],
   "source": [
    "LM_r(Y)"
   ]
  },
  {
   "cell_type": "markdown",
   "metadata": {},
   "source": [
    "Finding Y* equilibrium for x value "
   ]
  },
  {
   "cell_type": "code",
   "execution_count": 40,
   "metadata": {},
   "outputs": [],
   "source": [
    "Y_star = sp.solve(LM_r(Y)-IS_r(Y),Y)[0]"
   ]
  },
  {
   "cell_type": "code",
   "execution_count": 41,
   "metadata": {},
   "outputs": [
    {
     "data": {
      "text/latex": [
       "$\\displaystyle \\frac{C_{0} h + G h + I_{0} h + b m}{b k + h mpc t - h mpc + h}$"
      ],
      "text/plain": [
       "(C0*h + G*h + I0*h + b*m)/(b*k + h*mpc*t - h*mpc + h)"
      ]
     },
     "execution_count": 41,
     "metadata": {},
     "output_type": "execute_result"
    }
   ],
   "source": [
    "Y_star"
   ]
  },
  {
   "cell_type": "markdown",
   "metadata": {},
   "source": [
    "Finding r* equilibrium for y value "
   ]
  },
  {
   "cell_type": "code",
   "execution_count": 42,
   "metadata": {},
   "outputs": [
    {
     "data": {
      "text/latex": [
       "$\\displaystyle \\frac{k \\left(C_{0} h + G h + I_{0} h + b m\\right)}{h \\left(b k + h mpc t - h mpc + h\\right)} - \\frac{m}{h}$"
      ],
      "text/plain": [
       "k*(C0*h + G*h + I0*h + b*m)/(h*(b*k + h*mpc*t - h*mpc + h)) - m/h"
      ]
     },
     "execution_count": 42,
     "metadata": {},
     "output_type": "execute_result"
    }
   ],
   "source": [
    "r_star = LM_r(Y_star)\n",
    "r_star"
   ]
  },
  {
   "cell_type": "code",
   "execution_count": 43,
   "metadata": {},
   "outputs": [
    {
     "data": {
      "text/latex": [
       "$\\displaystyle \\frac{C_{0} + G + I_{0} - \\frac{mpc t \\left(C_{0} h + G h + I_{0} h + b m\\right)}{b k + h mpc t - h mpc + h} - \\frac{\\left(1 - mpc\\right) \\left(C_{0} h + G h + I_{0} h + b m\\right)}{b k + h mpc t - h mpc + h}}{b}$"
      ],
      "text/plain": [
       "(C0 + G + I0 - mpc*t*(C0*h + G*h + I0*h + b*m)/(b*k + h*mpc*t - h*mpc + h) - (1 - mpc)*(C0*h + G*h + I0*h + b*m)/(b*k + h*mpc*t - h*mpc + h))/b"
      ]
     },
     "execution_count": 43,
     "metadata": {},
     "output_type": "execute_result"
    }
   ],
   "source": [
    "IS_r(Y_star)"
   ]
  },
  {
   "cell_type": "markdown",
   "metadata": {},
   "source": [
    "# 1.b"
   ]
  },
  {
   "cell_type": "markdown",
   "metadata": {},
   "source": [
    "The derivatives of wrto M/P and G will show the effects of policy impact"
   ]
  },
  {
   "cell_type": "code",
   "execution_count": 44,
   "metadata": {},
   "outputs": [
    {
     "name": "stdout",
     "output_type": "stream",
     "text": [
      "[b/(b*k + h*mpc*t - h*mpc + h), h/(b*k + h*mpc*t - h*mpc + h)]\n",
      "[b*k/(h*(b*k + h*mpc*t - h*mpc + h)) - 1/h, k/(b*k + h*mpc*t - h*mpc + h)]\n"
     ]
    }
   ],
   "source": [
    "Y_diffs = [sp.diff(Y_star,i) for i in (m,G)]\n",
    "r_diffs = [sp.diff(r_star,i) for i in (m,G)]\n",
    "print(Y_diffs)\n",
    "print(r_diffs)"
   ]
  },
  {
   "cell_type": "code",
   "execution_count": 45,
   "metadata": {},
   "outputs": [],
   "source": [
    "mpc = .675   #(1-.1)*.75\n",
    "C0, I0, G = 0,0,1\n",
    "b = 1\n",
    "k = .5\n",
    "h = .6\n",
    "c = .75\n",
    "t = .1 "
   ]
  },
  {
   "cell_type": "code",
   "execution_count": 46,
   "metadata": {},
   "outputs": [
    {
     "name": "stdout",
     "output_type": "stream",
     "text": [
      "0.8157715839564922\n",
      "1.3596193065941538\n"
     ]
    }
   ],
   "source": [
    "DerivG = h/(b*k + h*mpc*t - h*mpc + h)       #Derivative for G\n",
    "DerivMP = b/(b*k + h*mpc*t - h*mpc + h)    #Derivative for M/P\n",
    "print(DerivG)\n",
    "print(DerivMP)"
   ]
  },
  {
   "cell_type": "markdown",
   "metadata": {},
   "source": [
    "The goal is for GDP growth and the option will be an increase in money balance by 1% rather 1% increase in governement balance because it produces a greater output as 1.36 > 0.82."
   ]
  },
  {
   "cell_type": "markdown",
   "metadata": {},
   "source": [
    "# 1.c"
   ]
  },
  {
   "cell_type": "code",
   "execution_count": 47,
   "metadata": {},
   "outputs": [],
   "source": [
    "import numpy as np\n",
    "import matplotlib.pyplot as plt\n",
    "\n",
    "k = np.linspace(0.2,0.6,100)"
   ]
  },
  {
   "cell_type": "code",
   "execution_count": 48,
   "metadata": {
    "scrolled": false
   },
   "outputs": [
    {
     "data": {
      "image/png": "[encoded data removed]",
      "text/plain": [
       "<Figure size 432x288 with 1 Axes>"
      ]
     },
     "metadata": {
      "needs_background": "light"
     },
     "output_type": "display_data"
    }
   ],
   "source": [
    "plt.figure()\n",
    "plt.xlabel('k')\n",
    "plt.ylabel('Value')\n",
    "plt.title('Equilibrium derivatives for M/P and G')\n",
    "plt.plot(k,b/(b*k + h*mpc*t - h*mpc + h), label = \"dY/dm\")\n",
    "plt.plot(k,h/(b*k + h*mpc*t - h*mpc + h), label = \"dY/dg\")\n",
    "plt.plot(k,(b*k/(h*(b*k + h*mpc*t - h*mpc + h)) - 1/h), label = \"dr/dm\")\n",
    "plt.plot(k,k/(b*k + h*mpc*t - h*mpc + h), label = \"dr/dg\")\n",
    "plt.label = (\"dY/dm\")\n",
    "plt.legend()\n",
    "plt.show()"
   ]
  },
  {
   "cell_type": "markdown",
   "metadata": {},
   "source": [
    "As the value of k goes up government expenditure seems to go down. In this graph k is used to represent elasticity so as k goes up it becomes more elastic. As something becomes more elastic it becomes very responsive to change. "
   ]
  },
  {
   "cell_type": "markdown",
   "metadata": {},
   "source": [
    "# 2"
   ]
  },
  {
   "cell_type": "markdown",
   "metadata": {},
   "source": [
    "1960's Recession"
   ]
  },
  {
   "cell_type": "markdown",
   "metadata": {},
   "source": [
    "The 1960 recession is known as the rolling adjustment recession as trade was causing Americans to purchase more foreign-made products and affected United States industries. This recession lasted 10 months and saw a GDP decline of about 2% and an increase in unemployment to about 7%. Continuing on GNP and demand for products also went down. "
   ]
  },
  {
   "cell_type": "markdown",
   "metadata": {},
   "source": [
    "1970's Recession"
   ]
  },
  {
   "cell_type": "markdown",
   "metadata": {},
   "source": [
    "The 1970 or most notably the Nixon recession lasted about 11 months and was heavily influenced by increasing inflation caused by the government deploying very restrictive monetary policy. During the Nixon recession unemployment had reached about 6% and GDP had also declined by about 1%. These issues combined for a slower economy which led to the recession. "
   ]
  },
  {
   "cell_type": "markdown",
   "metadata": {},
   "source": [
    "1974 Recession"
   ]
  },
  {
   "cell_type": "markdown",
   "metadata": {},
   "source": [
    "\n",
    "From the end of 1973 to early 1975 or about 16 months, the US experienced an oil crisis recession. This was called the oil crisis recession as oil prices had multiplied in price by times 4 combined with the United States also being in the Vietnam war. The effects of this recession were unemployment had reached a staggering 9% and GDP had declined by about 3%. These effects took place because stagflation caused the recession. \n"
   ]
  },
  {
   "cell_type": "markdown",
   "metadata": {},
   "source": [
    "1980 Recession"
   ]
  },
  {
   "cell_type": "markdown",
   "metadata": {},
   "source": [
    "The energy crisis recession lasted around 6 months and the federal reserve had a large impace by raising interest rates while simultaneously slowing money supply growth. This caused unemployment to rise to about 8% and for GDP to decline about 2%. During all this inflation had risen to about 11%, the reason behind this reserve acting this way was riskiness of energy price and supply. "
   ]
  },
  {
   "cell_type": "markdown",
   "metadata": {},
   "source": [
    "1982 Recession"
   ]
  },
  {
   "cell_type": "markdown",
   "metadata": {},
   "source": [
    "The Iran or energy crisis was caused by the change of Iran as it had switched its regime, which as shown in the last recession mentioned were the 4th largest oil producers in the world. The country used to be ruled by the United States but we got overthrew and Iran’s managing of oil caused varying intervals, lower volumes, and higher prices. These contributed to tighter monetary policy that rose unemployment to about 11% and GDP had declined by about 3%. This lasted for about 16 months. "
   ]
  },
  {
   "cell_type": "markdown",
   "metadata": {},
   "source": [
    "1991 Recession"
   ]
  },
  {
   "cell_type": "markdown",
   "metadata": {},
   "source": [
    "From the middle of 1990 to the beginning of 1991 America was experiencing the Gulf War recession that lasted 8 months. Again this recession had to do with a change in oil prices caused by a war between Iraq and Kuwait. This event also caused trade to decline while also combining with the US as the North American Free Trade Market and the buyout of United Airlines also occurred. Unemployment rose to about 7% and GDP declined by about 2%. "
   ]
  },
  {
   "cell_type": "markdown",
   "metadata": {},
   "source": [
    "2001 Recession"
   ]
  },
  {
   "cell_type": "markdown",
   "metadata": {},
   "source": [
    "The 2001 recession or better known as the 9/11 recession occurred for about 8 months. Although the recession is known as the 9/11 recession it was also caused by the falling of the dot-com bubble, accounting scandals of major US corporations, and the attacks of 9/11. The unemployment rate had risen to 6% and the GDP had only declined by a small amount of around .5%. \n"
   ]
  },
  {
   "cell_type": "markdown",
   "metadata": {},
   "source": [
    "2008 Recession"
   ]
  },
  {
   "cell_type": "markdown",
   "metadata": {},
   "source": [
    "From the end of 2007 to the middle of 2009 America experienced a recession known as the great recession that lasted 18 months. The effects of this recession were that unemployment had risen to about 10% and GDP had declined by about 4.5%. The main factor causing this recession in known as the housing bubble which caused many foreclosures along with oil prices again reaching record high prices then eventually crashing the oil industry.   "
   ]
  }
 ],
 "metadata": {
  "kernelspec": {
   "display_name": "Python 3",
   "language": "python",
   "name": "python3"
  },
  "language_info": {
   "codemirror_mode": {
    "name": "ipython",
    "version": 3
   },
   "file_extension": ".py",
   "mimetype": "text/x-python",
   "name": "python",
   "nbconvert_exporter": "python",
   "pygments_lexer": "ipython3",
   "version": "3.8.3"
  }
 },
 "nbformat": 4,
 "nbformat_minor": 4
}
